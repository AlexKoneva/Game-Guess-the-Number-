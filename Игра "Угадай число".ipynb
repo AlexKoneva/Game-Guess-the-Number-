{
 "cells": [
  {
   "cell_type": "code",
   "execution_count": 3,
   "id": "bbc60412",
   "metadata": {},
   "outputs": [
    {
     "name": "stdout",
     "output_type": "stream",
     "text": [
      "Добро пожаловать в игру \"Угадай число\"!\n",
      "\n",
      "Осталось попыток: 10\n",
      "Угадай число (введите \"stop\", чтобы остановиться): 45\n",
      "Не верно. Заданное число меньше, чем 45\n",
      "\n",
      "Осталось попыток: 9\n",
      "Угадай число (введите \"stop\", чтобы остановиться): 78\n",
      "Не угадал. Заданное число сильно меньше, чем 78\n",
      "\n",
      "Осталось попыток: 8\n",
      "Угадай число (введите \"stop\", чтобы остановиться): stop\n",
      "Заданное число было -27\n"
     ]
    }
   ],
   "source": [
    "import random\n",
    "\n",
    "\n",
    "print('Добро пожаловать в игру \"Угадай число\"!')\n",
    "target_number = random.randint(-100, 100) #случайное целое число в диапазоне от -100 до 100\n",
    "max_tries = 10\n",
    "user_tries = 0\n",
    "score = 100\n",
    "\n",
    "while True:\n",
    "    print('\\nОсталось попыток: %s' % (max_tries - user_tries))\n",
    "    user_input = input('Угадай число (введите \"stop\", чтобы остановиться): ')\n",
    "    \n",
    "    if user_input == 'stop':\n",
    "        print('Заданное число было %s' % target_number)\n",
    "        break\n",
    "    \n",
    "    try:\n",
    "        user_input = int(user_input)\n",
    "    except ValueError as ex:\n",
    "        print('Заданное число должно быть целым и содержать только цифры. ' + '\"%s\" не подходит, попробуйте еще раз.' % user_input)\n",
    "        continue\n",
    "        \n",
    "    \n",
    "    user_tries += 1\n",
    "    if user_tries >= max_tries:\n",
    "        print('Достигнуто максимальное количество попыток. Заданное число было %s' % target_number)\n",
    "        break\n",
    "    \n",
    "    if user_input == target_number:\n",
    "        print('Поздравляю! Вы угадали число.')\n",
    "        print('Ваш счет: %s' % (score * ((max_tries - user_tries + 1) / max_tries)))\n",
    "        break\n",
    "    else:\n",
    "        difference = target_number - user_input\n",
    "        if difference > 100:\n",
    "            print('Не верно. Заданное число сильно больше, чем %s' % user_input)\n",
    "        elif difference > 50:\n",
    "            print('Не верно. Заданное число больше, чем %s' % user_input)\n",
    "        elif difference > 0:\n",
    "            print('Не верно. Заданное число немного больше, чем %s' % user_input)\n",
    "        elif difference > -50:\n",
    "            print('Не верно. Заданное число немного меньше, чем %s' % user_input)\n",
    "        elif difference > -100:\n",
    "            print('Не верно. Заданное число меньше, чем %s' % user_input)\n",
    "        else:\n",
    "            print('Не угадал. Заданное число сильно меньше, чем %s' % user_input)"
   ]
  },
  {
   "cell_type": "code",
   "execution_count": null,
   "id": "3caedf9d",
   "metadata": {},
   "outputs": [],
   "source": []
  }
 ],
 "metadata": {
  "kernelspec": {
   "display_name": "Python 3 (ipykernel)",
   "language": "python",
   "name": "python3"
  },
  "language_info": {
   "codemirror_mode": {
    "name": "ipython",
    "version": 3
   },
   "file_extension": ".py",
   "mimetype": "text/x-python",
   "name": "python",
   "nbconvert_exporter": "python",
   "pygments_lexer": "ipython3",
   "version": "3.9.7"
  }
 },
 "nbformat": 4,
 "nbformat_minor": 5
}
